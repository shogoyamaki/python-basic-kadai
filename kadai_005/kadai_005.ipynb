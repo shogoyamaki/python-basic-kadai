{
  "nbformat": 4,
  "nbformat_minor": 0,
  "metadata": {
    "colab": {
      "provenance": []
    },
    "kernelspec": {
      "name": "python3",
      "display_name": "Python 3"
    },
    "language_info": {
      "name": "python"
    }
  },
  "cells": [
    {
      "cell_type": "code",
      "execution_count": 8,
      "metadata": {
        "colab": {
          "base_uri": "https://localhost:8080/"
        },
        "id": "pBQHU42MLKvk",
        "outputId": "350cb04e-f9d0-45fa-bd27-e60f39048816"
      },
      "outputs": [
        {
          "output_type": "stream",
          "name": "stdout",
          "text": [
            "台形の面積は75.0㎠です。\n"
          ]
        }
      ],
      "source": [
        "upper_base = 10 # 上辺の長さ(cm)\n",
        "lower_base = 20 # 下辺の長さ(cm)\n",
        "height = 5 # 高さ(cm)\n",
        "\n",
        "trapezoid_area = (upper_base + lower_base) * height / 2\n",
        "\n",
        "print(f\"台形の面積は{trapezoid_area}㎠です。\")\n"
      ]
    }
  ]
}