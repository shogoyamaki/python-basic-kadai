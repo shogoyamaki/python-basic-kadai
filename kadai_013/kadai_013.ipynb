{
  "nbformat": 4,
  "nbformat_minor": 0,
  "metadata": {
    "colab": {
      "provenance": []
    },
    "kernelspec": {
      "name": "python3",
      "display_name": "Python 3"
    },
    "language_info": {
      "name": "python"
    }
  },
  "cells": [
    {
      "cell_type": "code",
      "execution_count": 1,
      "metadata": {
        "colab": {
          "base_uri": "https://localhost:8080/"
        },
        "id": "OiCcBANGgZMu",
        "outputId": "33471762-d941-4cab-b339-c17a81d8307d"
      },
      "outputs": [
        {
          "output_type": "stream",
          "name": "stdout",
          "text": [
            "商品の金額: 500円\n",
            "消費税込みの合計金額: 550.0円\n"
          ]
        }
      ],
      "source": [
        "def calculate_total_price(product_price, tax_rate=0.1):\n",
        "    total_price = product_price * (1 + tax_rate)\n",
        "    return total_price\n",
        "\n",
        "# 例として、商品の金額が500円の場合\n",
        "product_price = 500\n",
        "total_price = calculate_total_price(product_price)\n",
        "\n",
        "print(f\"商品の金額: {product_price}円\")\n",
        "print(f\"消費税込みの合計金額: {total_price}円\")"
      ]
    }
  ]
}