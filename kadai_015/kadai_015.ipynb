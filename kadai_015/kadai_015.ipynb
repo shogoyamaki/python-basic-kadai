{
  "nbformat": 4,
  "nbformat_minor": 0,
  "metadata": {
    "colab": {
      "provenance": []
    },
    "kernelspec": {
      "name": "python3",
      "display_name": "Python 3"
    },
    "language_info": {
      "name": "python"
    }
  },
  "cells": [
    {
      "cell_type": "code",
      "execution_count": 1,
      "metadata": {
        "colab": {
          "base_uri": "https://localhost:8080/"
        },
        "id": "_-FCotfa_gtI",
        "outputId": "76f35b60-a99c-4947-c546-13d64890e1c1"
      },
      "outputs": [
        {
          "output_type": "stream",
          "name": "stdout",
          "text": [
            "名前: 侍太郎, 年齢: 30\n",
            "名前: 侍花子, 年齢: 18\n",
            "名前: 侍二郎, 年齢: 20\n"
          ]
        }
      ],
      "source": [
        "class Human:\n",
        "    def __init__(self, name, age):\n",
        "        self.name = name\n",
        "        self.age = age\n",
        "\n",
        "    def printinfo(self):\n",
        "        print(f\"名前: {self.name}, 年齢: {self.age}\")\n",
        "\n",
        "# Humanクラスのインスタンスを変数に代入\n",
        "samurai_taro = Human(\"侍太郎\", 30)\n",
        "samurai_hanako = Human(\"侍花子\", 18)\n",
        "samurai_jiro = Human(\"侍二郎\", 20)\n",
        "\n",
        "# printinfoメソッドを呼び出して名前と年齢を表示\n",
        "samurai_taro.printinfo()\n",
        "samurai_hanako.printinfo()\n",
        "samurai_jiro.printinfo()"
      ]
    }
  ]
}