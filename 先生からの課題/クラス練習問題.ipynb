{
  "nbformat": 4,
  "nbformat_minor": 0,
  "metadata": {
    "colab": {
      "provenance": []
    },
    "kernelspec": {
      "name": "python3",
      "display_name": "Python 3"
    },
    "language_info": {
      "name": "python"
    }
  },
  "cells": [
    {
      "cell_type": "code",
      "execution_count": 2,
      "metadata": {
        "id": "rmraN5em5eZJ"
      },
      "outputs": [],
      "source": [
        "# Carクラスを作成し、ブランド(brand)とモデル(model)の属性を持たせる。車の情報を表示するメソッドも追加する。\n",
        "class Car:\n",
        "    def __init__(self, brand, model):\n",
        "        self.brand = brand\n",
        "        self.model = model\n",
        "\n",
        "    def display_info(self):\n",
        "        print(f\"ブランド: {self.brand}, モデル: {self.model}\")"
      ]
    },
    {
      "cell_type": "code",
      "source": [
        "car1 = Car(\"トヨタ\", \"プリウス\")\n",
        "car2 = Car(\"ダイハツ\", \"ムーヴ\")"
      ],
      "metadata": {
        "id": "lF8wxxi--JcK"
      },
      "execution_count": 3,
      "outputs": []
    },
    {
      "cell_type": "code",
      "source": [
        "car1.display_info()\n",
        "car2.display_info()"
      ],
      "metadata": {
        "colab": {
          "base_uri": "https://localhost:8080/"
        },
        "id": "jJcT2OVX-kO6",
        "outputId": "27ccfea3-5258-4904-df2b-14eaa1788e72"
      },
      "execution_count": 4,
      "outputs": [
        {
          "output_type": "stream",
          "name": "stdout",
          "text": [
            "ブランド: トヨタ, モデル: プリウス\n",
            "ブランド: ダイハツ, モデル: ムーヴ\n"
          ]
        }
      ]
    },
    {
      "cell_type": "code",
      "source": [
        "# BankAccountクラスを作成し、口座番号(account_number)と残高(balance)の属性を持たせる。預金と引き出しのメソッドも追加する。\n",
        "class BankAccount:\n",
        "    def __init__(self, account_number, balance = 0):\n",
        "        self.account_number = account_number\n",
        "        self.balance = balance\n",
        "\n",
        "    def deposit(self, amount):\n",
        "        self.balance += amount\n",
        "        print(f\"{amount} 円を預金しました。\")\n",
        "\n",
        "    def withdraw(self, amount):\n",
        "        if amount > self.balance:\n",
        "            print(\"残高が不足しています。\")\n",
        "        else:\n",
        "            self.balance -= amount\n",
        "            print(f\"{amount} 円を引き出しました。\")\n",
        "\n",
        "    def display_balance(self):\n",
        "        print(f\"口座番号: {self.account_number}, 残高: {self.balance} 円\")"
      ],
      "metadata": {
        "id": "otBScxYn_N_5"
      },
      "execution_count": 5,
      "outputs": []
    },
    {
      "cell_type": "code",
      "source": [
        "account1 = BankAccount(\"123456789\")\n",
        "account2 = BankAccount(\"987654321\", 10000)"
      ],
      "metadata": {
        "id": "488qquhFB7_y"
      },
      "execution_count": 6,
      "outputs": []
    },
    {
      "cell_type": "code",
      "source": [
        "account1.deposit(5000)\n",
        "account1.withdraw(2000)\n",
        "\n",
        "account2.deposit(3000)\n",
        "account2.withdraw(150000)"
      ],
      "metadata": {
        "colab": {
          "base_uri": "https://localhost:8080/"
        },
        "id": "r6mRdrekCVwA",
        "outputId": "8f3e287d-9586-4803-886d-b839a566f85a"
      },
      "execution_count": 7,
      "outputs": [
        {
          "output_type": "stream",
          "name": "stdout",
          "text": [
            "5000 円を預金しました。\n",
            "2000 円を引き出しました。\n",
            "3000 円を預金しました。\n",
            "残高が不足しています。\n"
          ]
        }
      ]
    },
    {
      "cell_type": "code",
      "source": [
        "account1.display_balance()\n",
        "account2.display_balance()"
      ],
      "metadata": {
        "colab": {
          "base_uri": "https://localhost:8080/"
        },
        "id": "ZFh6WLVcDzdp",
        "outputId": "1af4a1b4-b458-4500-e1be-e11bae4d57a8"
      },
      "execution_count": 8,
      "outputs": [
        {
          "output_type": "stream",
          "name": "stdout",
          "text": [
            "口座番号: 123456789, 残高: 3000 円\n",
            "口座番号: 987654321, 残高: 13000 円\n"
          ]
        }
      ]
    },
    {
      "cell_type": "code",
      "source": [
        "# Animalクラスを作成し、種類(species)と年齢(age)の属性を持たせる。動物の鳴き声を出力するメソッドも追加する。\n",
        "class Animal:\n",
        "    def __init__(self, species, age):\n",
        "        self.species = species\n",
        "        self.age = age\n",
        "\n",
        "    def make_sound(self):\n",
        "        if self.species.lower() == \"dog\":\n",
        "            print(\"わんわん\")\n",
        "        elif self.species.lower() == \"cat\":\n",
        "            print(\"にゃーにゃー\")\n",
        "        else:\n",
        "            print(\"不明な動物です\")"
      ],
      "metadata": {
        "id": "mg9XdDMGECaS"
      },
      "execution_count": 9,
      "outputs": []
    },
    {
      "cell_type": "code",
      "source": [
        "animal1 = Animal(\"dog\", 3)\n",
        "animal2 = Animal(\"cat\", 5)\n",
        "animal3 = Animal(\"rabbit\", 8)"
      ],
      "metadata": {
        "id": "zTGrU0fOFu5Z"
      },
      "execution_count": 10,
      "outputs": []
    },
    {
      "cell_type": "code",
      "source": [
        "animal1.make_sound()\n",
        "animal2.make_sound()\n",
        "animal3.make_sound()"
      ],
      "metadata": {
        "colab": {
          "base_uri": "https://localhost:8080/"
        },
        "id": "5M8icNqxFvTx",
        "outputId": "6898a995-7c79-4c61-8dfd-978b639fd227"
      },
      "execution_count": 11,
      "outputs": [
        {
          "output_type": "stream",
          "name": "stdout",
          "text": [
            "わんわん\n",
            "にゃーにゃー\n",
            "不明な動物です\n"
          ]
        }
      ]
    },
    {
      "cell_type": "code",
      "source": [
        "# Bookクラスを作成し、タイトル(title)と著者(author)の属性を持たせる。本の情報を表示するメソッドも追加する。\n",
        "class Book:\n",
        "    def __init__(self, title, author):\n",
        "        self.title = title\n",
        "        self.author = author\n",
        "\n",
        "    def display_info(self):\n",
        "        print(f\"タイトル: {self.title}, 著者: {self.author}\")"
      ],
      "metadata": {
        "id": "JX3b_UObHB3v"
      },
      "execution_count": 12,
      "outputs": []
    },
    {
      "cell_type": "code",
      "source": [
        "book1 = Book(\"火花\", \"又吉直樹\")\n",
        "book2 = Book(\"陸王\", \"池井戸潤\")"
      ],
      "metadata": {
        "id": "dAWzT62iITV2"
      },
      "execution_count": 13,
      "outputs": []
    },
    {
      "cell_type": "code",
      "source": [
        "book1.display_info()\n",
        "book2.display_info()"
      ],
      "metadata": {
        "colab": {
          "base_uri": "https://localhost:8080/"
        },
        "id": "sMz9fTasJM_G",
        "outputId": "9d124e68-d06e-416b-d945-e88cd1884e2a"
      },
      "execution_count": 14,
      "outputs": [
        {
          "output_type": "stream",
          "name": "stdout",
          "text": [
            "タイトル: 火花, 著者: 又吉直樹\n",
            "タイトル: 陸王, 著者: 池井戸潤\n"
          ]
        }
      ]
    },
    {
      "cell_type": "code",
      "source": [
        "# Studentクラスを作成し、名前(name)と学年(grade)の属性を持たせる。学生の情報を表示するメソッドも追加する。\n",
        "class Student:\n",
        "    def __init__(self, name, grade):\n",
        "        self.name = name\n",
        "        self.grade = grade\n",
        "\n",
        "    def display_info(self):\n",
        "        print(f\"名前: {self.name}, 学年: {self.grade}\")"
      ],
      "metadata": {
        "id": "3B1aEEXrJacn"
      },
      "execution_count": 15,
      "outputs": []
    },
    {
      "cell_type": "code",
      "source": [
        "student1 = Student(\"太郎\", 3)\n",
        "student2 = Student(\"花子\", 5)"
      ],
      "metadata": {
        "id": "pGvnaIoiKKz3"
      },
      "execution_count": 16,
      "outputs": []
    },
    {
      "cell_type": "code",
      "source": [
        "student1.display_info()\n",
        "student2.display_info()"
      ],
      "metadata": {
        "colab": {
          "base_uri": "https://localhost:8080/"
        },
        "id": "8W6XUMjdKgAE",
        "outputId": "96efa16d-d05b-42eb-8e7a-fa93833809fa"
      },
      "execution_count": 17,
      "outputs": [
        {
          "output_type": "stream",
          "name": "stdout",
          "text": [
            "名前: 太郎, 学年: 3\n",
            "名前: 花子, 学年: 5\n"
          ]
        }
      ]
    }
  ]
}