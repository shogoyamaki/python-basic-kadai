{
  "nbformat": 4,
  "nbformat_minor": 0,
  "metadata": {
    "colab": {
      "provenance": []
    },
    "kernelspec": {
      "name": "python3",
      "display_name": "Python 3"
    },
    "language_info": {
      "name": "python"
    }
  },
  "cells": [
    {
      "cell_type": "code",
      "execution_count": 1,
      "metadata": {
        "colab": {
          "base_uri": "https://localhost:8080/"
        },
        "id": "vatBvjpN523l",
        "outputId": "85e35a9c-648f-438f-9cac-c3b38e37e0cb"
      },
      "outputs": [
        {
          "output_type": "stream",
          "name": "stdout",
          "text": [
            "numは20以上40以下です\n"
          ]
        }
      ],
      "source": [
        "num = 30\n",
        "# numが20以上40以下なら、\"numは20以上40以下です\"と出力する\n",
        "if 20 <= num <= 40:\n",
        "    print(\"numは20以上40以下です\")"
      ]
    },
    {
      "cell_type": "code",
      "source": [
        "num = 15\n",
        "# numが10ではない場合、\"numは10ではありません\"と出力する\n",
        "if num != 10:\n",
        "    print(\"numは10ではありません\")"
      ],
      "metadata": {
        "colab": {
          "base_uri": "https://localhost:8080/"
        },
        "id": "UvcICpkYGBfb",
        "outputId": "a3c23141-81bc-450b-b86c-38cdccaf7d58"
      },
      "execution_count": 2,
      "outputs": [
        {
          "output_type": "stream",
          "name": "stdout",
          "text": [
            "numは10ではありません\n"
          ]
        }
      ]
    },
    {
      "cell_type": "code",
      "source": [
        "num = 6\n",
        "# numが5より大きく、かつ10未満の場合、\"numは5より大きく10未満です\"と出力する\n",
        "if 5 < num <10:\n",
        "    print(\"numは5より大きく10未満です\")"
      ],
      "metadata": {
        "colab": {
          "base_uri": "https://localhost:8080/"
        },
        "id": "hFvm0CmbGZKg",
        "outputId": "4a449fd3-7d75-4dde-e145-707f7c216556"
      },
      "execution_count": 6,
      "outputs": [
        {
          "output_type": "stream",
          "name": "stdout",
          "text": [
            "numは5より大きく10未満です\n"
          ]
        }
      ]
    },
    {
      "cell_type": "code",
      "source": [
        "num = 20\n",
        "# numが20と等しい場合、\"numは20です\"と出力する\n",
        "if num == 20:\n",
        "    print(\"numは20です\")"
      ],
      "metadata": {
        "colab": {
          "base_uri": "https://localhost:8080/"
        },
        "id": "l3zAiVqZG_dF",
        "outputId": "c093c13c-d223-4799-e5d5-71af8d8d24a5"
      },
      "execution_count": 7,
      "outputs": [
        {
          "output_type": "stream",
          "name": "stdout",
          "text": [
            "numは20です\n"
          ]
        }
      ]
    },
    {
      "cell_type": "code",
      "source": [
        "num = 50\n",
        "# numが25か50のどちらかであれば、\"numは25か50です\"と出力する\n",
        "if num == 25 or num == 50:\n",
        "    print(\"numは25か50です\")"
      ],
      "metadata": {
        "colab": {
          "base_uri": "https://localhost:8080/"
        },
        "id": "S5rlpjSWHSae",
        "outputId": "b1ea1dd8-702e-432b-8ff8-21b205fe0ec7"
      },
      "execution_count": 8,
      "outputs": [
        {
          "output_type": "stream",
          "name": "stdout",
          "text": [
            "numは25か50です\n"
          ]
        }
      ]
    },
    {
      "cell_type": "code",
      "source": [
        "text = \"こんにちは\"\n",
        "# textが\"こんにちは\"なら、\"挨拶はこんにちはです\"と出力する\n",
        "if text == \"こんにちは\":\n",
        "    print(\"挨拶はこんにちはです\")"
      ],
      "metadata": {
        "colab": {
          "base_uri": "https://localhost:8080/"
        },
        "id": "tehC9WdTHz13",
        "outputId": "194e9bcb-22d3-4db0-a7dc-816cb3f08408"
      },
      "execution_count": 9,
      "outputs": [
        {
          "output_type": "stream",
          "name": "stdout",
          "text": [
            "挨拶はこんにちはです\n"
          ]
        }
      ]
    },
    {
      "cell_type": "code",
      "source": [
        "num = 101\n",
        "# numが1未満または100以上なら、\"numは範囲外です\"と出力する\n",
        "if num < 1 or num >= 100:\n",
        "  print(\"numは範囲外です\")"
      ],
      "metadata": {
        "colab": {
          "base_uri": "https://localhost:8080/"
        },
        "id": "sexIYfumIKif",
        "outputId": "2c95e091-4de7-470c-aaba-f6a2ce7162fc"
      },
      "execution_count": 14,
      "outputs": [
        {
          "output_type": "stream",
          "name": "stdout",
          "text": [
            "numは範囲外です\n"
          ]
        }
      ]
    },
    {
      "cell_type": "code",
      "source": [
        "value = \"Hello\"\n",
        "# valueが文字列型(str)なら、\"valueは文字列です\"と出力する\n",
        "# ※isinstanceで型チェックできます(isinstance(value, str))\n",
        "if isinstance(value, str):\n",
        "    print(\"valueは文字列です\")"
      ],
      "metadata": {
        "colab": {
          "base_uri": "https://localhost:8080/"
        },
        "id": "eNZNDBV7I-PV",
        "outputId": "17d7b55c-c8a5-4ba4-9bcb-25797f47524d"
      },
      "execution_count": 15,
      "outputs": [
        {
          "output_type": "stream",
          "name": "stdout",
          "text": [
            "valueは文字列です\n"
          ]
        }
      ]
    },
    {
      "cell_type": "code",
      "source": [
        "num = 4\n",
        "# numが偶数なら、\"numは偶数です\"と出力する\n",
        "if num % 2 == 0:\n",
        "    print(\"numは偶数です\")"
      ],
      "metadata": {
        "colab": {
          "base_uri": "https://localhost:8080/"
        },
        "id": "3Si_0C3aJfbV",
        "outputId": "7f8ac5a7-1395-4ac7-e70c-350222d49169"
      },
      "execution_count": 18,
      "outputs": [
        {
          "output_type": "stream",
          "name": "stdout",
          "text": [
            "numは偶数です\n"
          ]
        }
      ]
    },
    {
      "cell_type": "code",
      "source": [
        "num = 32\n",
        "# numが30以上で、かつ偶数なら、\"numは30以上の偶数です\"と出力する\n",
        "if num >= 30 and num % 2 == 0:\n",
        "    print(\"numは30以上の偶数です\")"
      ],
      "metadata": {
        "colab": {
          "base_uri": "https://localhost:8080/"
        },
        "id": "UxNuwUK_K7Bt",
        "outputId": "8a92e9fc-f694-4782-8f29-7b8387df3d4d"
      },
      "execution_count": 19,
      "outputs": [
        {
          "output_type": "stream",
          "name": "stdout",
          "text": [
            "numは30以上の偶数です\n"
          ]
        }
      ]
    }
  ]
}