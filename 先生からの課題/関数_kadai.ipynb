{
  "nbformat": 4,
  "nbformat_minor": 0,
  "metadata": {
    "colab": {
      "provenance": []
    },
    "kernelspec": {
      "name": "python3",
      "display_name": "Python 3"
    },
    "language_info": {
      "name": "python"
    }
  },
  "cells": [
    {
      "cell_type": "code",
      "execution_count": 6,
      "metadata": {
        "id": "1V_lcPKWj_Js"
      },
      "outputs": [],
      "source": [
        "# 引数として数値のリストを取り、その平均値を返す関数を作成する\n",
        "\n",
        "def calculate_average(numbers):\n",
        "    if not numbers:\n",
        "        return 0\n",
        "    total = sum(numbers)\n",
        "    return total / len(numbers)"
      ]
    },
    {
      "cell_type": "code",
      "source": [
        "numbers_list = [5, 10, 15, 20]"
      ],
      "metadata": {
        "id": "H1yK7J1dpuwg"
      },
      "execution_count": 7,
      "outputs": []
    },
    {
      "cell_type": "code",
      "source": [
        "average = calculate_average(numbers_list)\n",
        "print(\"平均値\", average)"
      ],
      "metadata": {
        "colab": {
          "base_uri": "https://localhost:8080/"
        },
        "id": "NK4Owt9yp46k",
        "outputId": "f6b57761-c207-4d42-89fe-59fe756c3aec"
      },
      "execution_count": 9,
      "outputs": [
        {
          "output_type": "stream",
          "name": "stdout",
          "text": [
            "平均値 12.5\n"
          ]
        }
      ]
    },
    {
      "cell_type": "code",
      "source": [
        "# 引数として数値のリストを取り、その中の最大値を返す関数を作成する\n",
        "def find_max(numbers):\n",
        "    if not numbers:\n",
        "        return None\n",
        "\n",
        "    max_value = max(numbers)\n",
        "    return max_value"
      ],
      "metadata": {
        "id": "PdgR9TQ8qSmp"
      },
      "execution_count": 10,
      "outputs": []
    },
    {
      "cell_type": "code",
      "source": [
        "numbers_list = [5, 10, 15, 20]"
      ],
      "metadata": {
        "id": "3gHdYxzj4ozk"
      },
      "execution_count": null,
      "outputs": []
    },
    {
      "cell_type": "code",
      "source": [
        "max_value = find_max(numbers_list)\n",
        "print(\"最大値\", max_value)"
      ],
      "metadata": {
        "colab": {
          "base_uri": "https://localhost:8080/"
        },
        "id": "7TFIuBM74rP7",
        "outputId": "54a286a2-28d2-41b6-b059-ec1be4fc658f"
      },
      "execution_count": 11,
      "outputs": [
        {
          "output_type": "stream",
          "name": "stdout",
          "text": [
            "最大値 20\n"
          ]
        }
      ]
    },
    {
      "cell_type": "code",
      "source": [
        "# 引数として文字列を取り、それを反転した文字列を返す関数を作成する\n",
        "def reverse_string(input_string):\n",
        "    return input_string[::-1]"
      ],
      "metadata": {
        "id": "M2UO5GX25NGl"
      },
      "execution_count": 12,
      "outputs": []
    },
    {
      "cell_type": "code",
      "source": [
        "input_string = \"こんにちは\""
      ],
      "metadata": {
        "id": "jmW_HQ2_7JYq"
      },
      "execution_count": 19,
      "outputs": []
    },
    {
      "cell_type": "code",
      "source": [
        "reversed_string = reverse_string(input_string)\n",
        "print(\"反転後の文字列:\", reversed_string)"
      ],
      "metadata": {
        "colab": {
          "base_uri": "https://localhost:8080/"
        },
        "id": "rGyvpH4p_f1n",
        "outputId": "f9325e2b-330f-46d6-e1c1-1d65f934d953"
      },
      "execution_count": 20,
      "outputs": [
        {
          "output_type": "stream",
          "name": "stdout",
          "text": [
            "反転後の文字列: はちにんこ\n"
          ]
        }
      ]
    },
    {
      "cell_type": "code",
      "source": [
        "# 引数として2つの数値を取り、それらの積を返す関数を作成する\n",
        "def multiply(x, y):\n",
        "    return x * y"
      ],
      "metadata": {
        "id": "fPLpGEQeAmeT"
      },
      "execution_count": 2,
      "outputs": []
    },
    {
      "cell_type": "code",
      "source": [
        "number_x = 5\n",
        "number_y = 9"
      ],
      "metadata": {
        "id": "x8t0SxhK1tcM"
      },
      "execution_count": 3,
      "outputs": []
    },
    {
      "cell_type": "code",
      "source": [
        "result = multiply(number_x, number_y)\n",
        "print(\"積:\", result)"
      ],
      "metadata": {
        "colab": {
          "base_uri": "https://localhost:8080/"
        },
        "id": "KRJVhs2Y2TJq",
        "outputId": "bf825d72-9353-44df-ed01-aee966b54225"
      },
      "execution_count": 4,
      "outputs": [
        {
          "output_type": "stream",
          "name": "stdout",
          "text": [
            "積: 45\n"
          ]
        }
      ]
    },
    {
      "cell_type": "code",
      "source": [
        "# 引数として文字列を取り、その文字数を返す関数を作成する\n",
        "def count_characters(input_string):\n",
        "    return len(input_string)"
      ],
      "metadata": {
        "id": "MeOIE7TPCAjq"
      },
      "execution_count": 5,
      "outputs": []
    },
    {
      "cell_type": "code",
      "source": [
        "input_string = \"こんにちは、こんばんは！\""
      ],
      "metadata": {
        "id": "6jZyORSUEz9O"
      },
      "execution_count": 6,
      "outputs": []
    },
    {
      "cell_type": "code",
      "source": [
        "count_character = count_characters(input_string)\n",
        "print(\"文字数:\", count_character)"
      ],
      "metadata": {
        "colab": {
          "base_uri": "https://localhost:8080/"
        },
        "id": "edjFHTWZJJG8",
        "outputId": "dd5840a6-fbaf-4f54-a093-a51d21b551b4"
      },
      "execution_count": 7,
      "outputs": [
        {
          "output_type": "stream",
          "name": "stdout",
          "text": [
            "文字数: 12\n"
          ]
        }
      ]
    },
    {
      "cell_type": "code",
      "source": [
        "# 引数としてリストと値を取り、その値がリスト内にいくつあるかを返す関数を作成する\n",
        "def count_occurrences(input_list, value):\n",
        "    count = input_list.count(value)\n",
        "    return count"
      ],
      "metadata": {
        "id": "g1TBh8qwe0aT"
      },
      "execution_count": 1,
      "outputs": []
    },
    {
      "cell_type": "code",
      "source": [
        "my_list = [1, 2, 3, 4, 5, 2, 3, 2]"
      ],
      "metadata": {
        "id": "DhOBBcpLjU10"
      },
      "execution_count": 2,
      "outputs": []
    },
    {
      "cell_type": "code",
      "source": [
        "target_value = 2"
      ],
      "metadata": {
        "id": "6Gbju9uIjiLl"
      },
      "execution_count": 3,
      "outputs": []
    },
    {
      "cell_type": "code",
      "source": [
        "occurrences = count_occurrences(my_list, target_value)\n",
        "print(f\"{target_value}がリスト内に含まれている回数:\", occurrences)"
      ],
      "metadata": {
        "colab": {
          "base_uri": "https://localhost:8080/"
        },
        "id": "gsxbvbCtjrC2",
        "outputId": "a9f08b83-3287-4332-f17d-41a467dc38d2"
      },
      "execution_count": 6,
      "outputs": [
        {
          "output_type": "stream",
          "name": "stdout",
          "text": [
            "2がリスト内に含まれている回数: 3\n"
          ]
        }
      ]
    },
    {
      "cell_type": "code",
      "source": [
        "# 引数として最小値と最大値を取り、その範囲内のランダムな数値を返す関数を作成する\n",
        "import random\n",
        "\n",
        "def generate_random_number(min_value, max_value):\n",
        "    return random.randint(min_value, max_value)"
      ],
      "metadata": {
        "id": "eUXXQG9ckS_t"
      },
      "execution_count": 15,
      "outputs": []
    },
    {
      "cell_type": "code",
      "source": [
        "min_value = 1\n",
        "max_value = 100"
      ],
      "metadata": {
        "id": "PffGhg10lSwj"
      },
      "execution_count": 16,
      "outputs": []
    },
    {
      "cell_type": "code",
      "source": [
        "random_number = generate_random_number(min_value, max_value)\n",
        "print(\"ランダムな数値:\", random_number)"
      ],
      "metadata": {
        "colab": {
          "base_uri": "https://localhost:8080/"
        },
        "id": "HYX7jpzblaO0",
        "outputId": "e2cede00-6709-4291-d885-f4a8aebe3f63"
      },
      "execution_count": 21,
      "outputs": [
        {
          "output_type": "stream",
          "name": "stdout",
          "text": [
            "ランダムな数値: 62\n"
          ]
        }
      ]
    },
    {
      "cell_type": "code",
      "source": [
        "# 引数として文字列と文字を取り、その文字列が指定された文字で始まるかどうかを返す関数を作成する\n",
        "def starts_with(input_string, character):\n",
        "    return input_string.startswith(character)"
      ],
      "metadata": {
        "id": "b5mub1PgpW7_"
      },
      "execution_count": 22,
      "outputs": []
    },
    {
      "cell_type": "code",
      "source": [
        "test_string = \"winter\"\n",
        "test_character = \"w\""
      ],
      "metadata": {
        "id": "nKaG9OVHsfKU"
      },
      "execution_count": 23,
      "outputs": []
    },
    {
      "cell_type": "code",
      "source": [
        "result = starts_with(test_string, test_character)\n",
        "if result:\n",
        "    print(f\"{test_string}は {test_character} で始まります。\")\n",
        "else:\n",
        "    print(f\"{test_string}は {test_character} で始まりません。\")"
      ],
      "metadata": {
        "colab": {
          "base_uri": "https://localhost:8080/"
        },
        "id": "lcX0HEJKsrBN",
        "outputId": "c2637b3b-e76c-42f4-b43c-d263e6cc6f6e"
      },
      "execution_count": 25,
      "outputs": [
        {
          "output_type": "stream",
          "name": "stdout",
          "text": [
            "winterは w で始まります。\n"
          ]
        }
      ]
    },
    {
      "cell_type": "code",
      "source": [
        " # 引数として2つのリストを取り、それらを結合した新しいリストを返す関数を作成する\n",
        " def concatenate_lists(list1, list2):\n",
        "     return list1 + list2"
      ],
      "metadata": {
        "id": "Xif8epKzuNvw"
      },
      "execution_count": 27,
      "outputs": []
    },
    {
      "cell_type": "code",
      "source": [
        "list1 = [1, 2, 3]\n",
        "list2 = [4, 5, 6]"
      ],
      "metadata": {
        "id": "cItN1NEVu3Pv"
      },
      "execution_count": 32,
      "outputs": []
    },
    {
      "cell_type": "code",
      "source": [
        "concatenated_list = concatenate_lists(list1, list2)\n",
        "print(\"統合されたリスト:\", concatenated_list)"
      ],
      "metadata": {
        "colab": {
          "base_uri": "https://localhost:8080/"
        },
        "id": "yVt-kDPZvajZ",
        "outputId": "6ef41164-70bd-45fa-cb06-cd56a7165490"
      },
      "execution_count": 33,
      "outputs": [
        {
          "output_type": "stream",
          "name": "stdout",
          "text": [
            "統合されたリスト: [1, 2, 3, 4, 5, 6]\n"
          ]
        }
      ]
    },
    {
      "cell_type": "code",
      "source": [
        "# 引数として任意の数の数値を取り、それらの合計を返す関数を作成する\n",
        "def calculate_sum(*args):\n",
        "    return sum(args)"
      ],
      "metadata": {
        "id": "FzCEOSb-02S2"
      },
      "execution_count": 34,
      "outputs": []
    },
    {
      "cell_type": "code",
      "source": [
        "numbers = [5, 10, 15, 20]"
      ],
      "metadata": {
        "id": "-02xgiWm35wn"
      },
      "execution_count": 35,
      "outputs": []
    },
    {
      "cell_type": "code",
      "source": [
        "total_sum = calculate_sum(*numbers)\n",
        "print(\"合計:\", total_sum)"
      ],
      "metadata": {
        "colab": {
          "base_uri": "https://localhost:8080/"
        },
        "id": "h2iKhl8E4E5_",
        "outputId": "f86632a6-8629-47e4-eb3a-c713e6c87ae7"
      },
      "execution_count": 36,
      "outputs": [
        {
          "output_type": "stream",
          "name": "stdout",
          "text": [
            "合計: 50\n"
          ]
        }
      ]
    }
  ]
}